{
 "cells": [
  {
   "cell_type": "code",
   "execution_count": 2,
   "id": "072e39d0-ada1-47df-8d93-8d1b9162edae",
   "metadata": {
    "vscode": {
     "languageId": "shellscript"
    }
   },
   "outputs": [],
   "source": [
    "%load_ext autoreload\n",
    "%autoreload 2"
   ]
  },
  {
   "cell_type": "markdown",
   "id": "b667b090",
   "metadata": {},
   "source": [
    "**NOTE - This is a jupyter notebook running on a python kernel. You can run multiline bash commands in a cell with %%bash, or run single bash commands by prepending the command with \"!\". If running externally in a bash terminal, the mentioned additions are not needed**"
   ]
  },
  {
   "cell_type": "markdown",
   "id": "261f6cdb",
   "metadata": {},
   "source": [
    "**If you are using EMPIAR10164 tutorail dataset, the following two cells can be skipped**\n",
    "\n",
    "**If you have your own TOMO5 collected data, begin your data processing by copying the mdoc files from the raw data directory to the working mdoc directory.**\n",
    "\n",
    "*The below script will copy the mdoc files while renaming outputted TOMO5 mdoc files with a better regular expression system (from Position_X_X (the default TOMO5 naming convention) to TS_XXX) while creating a \"mapping\" text file that tracks the new and old names.* (X = a digit)\n",
    "<br>*The reason for this is that Warp assembles outputted tiltstacks with the corresponding names of the mdoc files it is given. This is all that's needed to rename the tilstack*\n",
    "<br>Changing the regular expression system will allow much easier interfacing with external processing suites (i.e. gapstop)\n",
    "<br>If your naming convention is different from Position_X_X, you will have to modify the script"
   ]
  },
  {
   "cell_type": "code",
   "execution_count": null,
   "id": "87ee8619",
   "metadata": {
    "vscode": {
     "languageId": "shellscript"
    }
   },
   "outputs": [],
   "source": [
    "%%bash\n",
    "# Script to copy and rename MDOC files to match renamed tilt series files\n",
    "# Usage: ./copy_mdoc_files.sh [-s source_directory] [-t target_directory] [-n start_number] [-f file_list] [-m mapping_file] [-d]\n",
    "\n",
    "set -e\n",
    "\n",
    "# SET THESE VARIABLES\n",
    "\n",
    "START_NUMBER=1 #What to start the TS_XXX.mrc numbering from (XXX = digits. starting from \"1\" will begin numbering with \"001\")\n",
    "DRY_RUN=false #test what the outputs will be before running for real (options = true,false)\n",
    "FILE_LIST=\"\" #path to a text file containing a list of all the mdocs being copied (text file must have one file per line) - not necessary\n",
    "MAPPING_FILE=\"/path/to/mapping_file.txt\" #mapping file = text file containing a list of the original files and the corresponding copied name\n",
    "SRC_DIR=\"rawdata/mdoc\" #source directory\n",
    "TARGET_DIR=\"mdocs\" #target director\n",
    "\n",
    "# Required arguments check\n",
    "if [ -z \"$SRC_DIR\" ] || [ -z \"$TARGET_DIR\" ]; then\n",
    "    echo \"Error: Both source (-s) and target (-t) directories are required.\" >&2\n",
    "    usage\n",
    "fi\n",
    "\n",
    "# Cleanup paths\n",
    "SRC_DIR=\"${SRC_DIR%/}\"\n",
    "TARGET_DIR=\"${TARGET_DIR%/}\"\n",
    "\n",
    "# Set default mapping file if not provided\n",
    "if [ -z \"$MAPPING_FILE\" ]; then\n",
    "    MAPPING_FILE=\"$TARGET_DIR/mdoc_copy_mapping.txt\"\n",
    "fi\n",
    "\n",
    "echo \"Source directory: $SRC_DIR\"\n",
    "echo \"Target directory: $TARGET_DIR\"\n",
    "echo \"Starting number: $START_NUMBER\"\n",
    "echo \"File list: ${FILE_LIST:-[all *.mdoc]}\"\n",
    "echo \"Mapping file: $MAPPING_FILE\"\n",
    "echo \"Dry run: $DRY_RUN\"\n",
    "\n",
    "# Prepare target and mapping file if not a dry run\n",
    "if [ \"$DRY_RUN\" = false ]; then\n",
    "    mkdir -p \"$TARGET_DIR\"\n",
    "    echo \"Created target directory: $TARGET_DIR\"\n",
    "\n",
    "    mkdir -p \"$(dirname \"$MAPPING_FILE\")\"\n",
    "    > \"$MAPPING_FILE\"\n",
    "    echo \"Initialized mapping file: $MAPPING_FILE\"\n",
    "fi\n",
    "\n",
    "# Collect and parse filenames\n",
    "declare -a file_info\n",
    "process_files() {\n",
    "    local file=\"$1\"\n",
    "    local name=$(basename \"$file\")\n",
    "\n",
    "    if [[ \"$name\" =~ ^([A-Za-z_]+)([0-9]+)(_([0-9]+))?\\.mdoc$ ]]; then\n",
    "        prefix=\"${BASH_REMATCH[1]}\"\n",
    "        main=\"${BASH_REMATCH[2]}\"\n",
    "        suffix=\"${BASH_REMATCH[4]:-0}\"\n",
    "        file_info+=(\"$prefix:$(printf \"%08d\" $main):$(printf \"%08d\" $suffix):$file\")\n",
    "    else\n",
    "        file_info+=(\"ZZZZ:99999999:99999999:$file\")\n",
    "    fi\n",
    "}\n",
    "\n",
    "# Load file list\n",
    "if [ -n \"$FILE_LIST\" ]; then\n",
    "    while IFS= read -r rel_path || [[ -n \"$rel_path\" ]]; do\n",
    "        [[ -z \"$rel_path\" ]] && continue\n",
    "        abs_path=\"$SRC_DIR/$rel_path\"\n",
    "        [ -f \"$abs_path\" ] && process_files \"$abs_path\" || echo \"Warning: File not found: $abs_path\"\n",
    "    done < \"$FILE_LIST\"\n",
    "else\n",
    "    for file in \"$SRC_DIR\"/*.mdoc; do\n",
    "        [ -f \"$file\" ] && process_files \"$file\"\n",
    "    done\n",
    "fi\n",
    "\n",
    "# Sort\n",
    "IFS=$'\\n' sorted_files=($(sort -t ':' -k1,1 -k2,2n -k3,3n <<<\"${file_info[*]}\"))\n",
    "unset IFS\n",
    "\n",
    "# Copy and map\n",
    "new_index=$START_NUMBER\n",
    "for entry in \"${sorted_files[@]}\"; do\n",
    "    IFS=':' read -r _ _ _ src_file <<< \"$entry\"\n",
    "    base=$(basename \"$src_file\")\n",
    "    new_name=\"TS_$(printf \"%03d\" $new_index).mdoc\"\n",
    "    new_path=\"$TARGET_DIR/$new_name\"\n",
    "\n",
    "    echo \"Copying: $base -> $new_name\"\n",
    "    if [ \"$DRY_RUN\" = false ]; then\n",
    "        cp \"$src_file\" \"$new_path\"\n",
    "\n",
    "        # Record both MDOC and corresponding MRC mapping\n",
    "        orig_mrc=\"${base/.mdoc/.mrc}\"\n",
    "        new_mrc=\"${new_name/.mdoc/.mrc}\"\n",
    "        echo \"$orig_mrc:$new_mrc\" >> \"$MAPPING_FILE\"\n",
    "    fi\n",
    "\n",
    "    new_index=$((new_index + 1))\n",
    "done\n",
    "\n",
    "echo \"Processed $((new_index - START_NUMBER)) files\"\n",
    "[ \"$DRY_RUN\" = false ] && echo \"Mapping written to: $MAPPING_FILE\"\n",
    "echo \"Done!\""
   ]
  },
  {
   "cell_type": "markdown",
   "id": "23339193",
   "metadata": {},
   "source": [
    "**Now that we have the renamed mdoc files, it's time to symlink the other raw frames into an input directory**"
   ]
  },
  {
   "cell_type": "code",
   "execution_count": null,
   "id": "eca621e5",
   "metadata": {
    "vscode": {
     "languageId": "shellscript"
    }
   },
   "outputs": [],
   "source": [
    "!ln -s $PWD/rawdata/frames/*.mrc frames"
   ]
  },
  {
   "cell_type": "markdown",
   "id": "cec0bc75",
   "metadata": {},
   "source": [
    "**Set some python variables that carried for downstream processing**\n",
    "- ts_settings = name of settings file that warp will use for tilt-series preprocessing steps\n",
    "- fs_settings = name of settings file that warp will use for frame-series preprocessing steps\n",
    "- bin_1_angpix = the pixel size of your raw data\n",
    "- bin_fact = the factor you will want your final tomogram binned by"
   ]
  },
  {
   "cell_type": "code",
   "execution_count": null,
   "id": "c35d1839-6af3-49c8-bde0-8e978c0ffc40",
   "metadata": {
    "vscode": {
     "languageId": "shellscript"
    }
   },
   "outputs": [],
   "source": [
    "ts_settings = 'warp_tiltseries.settings'\n",
    "fs_settings = 'warp_frameseries.settings'\n",
    "bin_1_angpix = #your bin1 value\n",
    "bin_fact = #your final binning factor\n",
    "\n",
    "final_bin_pix = bin_1_angpix * bin_fact\n",
    "\n",
    "!echo {ts_settings}\n",
    "!echo {fs_settings}\n",
    "!echo {bin_1_angpix}\n",
    "!echo {final_bin_pix}"
   ]
  },
  {
   "cell_type": "markdown",
   "id": "67f37f21",
   "metadata": {},
   "source": [
    "**CREATE SETTINGS FILE FOR WARP**\n",
    "\n",
    "*Explanations of commands*\n",
    "- create settings creates a corresponding .settings file (whose name you chose previously) which defines a set of parameters for warp to run with. (i.e. defined inputs outputs)\n",
    "- folder_data = raw data folder (for corresponding settings file)\n",
    "- folder_processing = working directory which output files will be saved to (and often read from)\n",
    "- output = name of .settings file\n",
    "- extension = what kind of files should be looked for in the raw data directory (.tif, .mrc, .eer)\n",
    "- angpix = pixel size of the raw data (previously set)\n",
    "- gain_path = path to your gain reference if you are gain correcting .tif and .eer files (recommended)\n",
    "- gain_flip = gain often has to be flipped or rotated to align with your data (the facility should tell you) - can be defined as x or y\n",
    "- exposure = per tilt exposure or per frame exposure (defined by - sign) in angstroms/pixel^2\n",
    "- tomo_dimensions = set to the camera size.\n",
    "\n",
    "*eer specific commands below:*\n",
    "- eer_ngroups = how many pseudoframes you should align to. (Ideally you should have between 0.5-1.5 exposure/pseudoframe (source RELION documentation))\n",
    "\n",
    "**IF YOU NEED MORE INFO ON COMMANDS CHECK THE WARP API WEBSITE**\n",
    "**IF YOU NEED MORE INFO ON THE FILE PARAMETERS, CHECK WITH IMOD COMMAND \"header /path/to/file/\" to load imod run - \"module load cryo contribs imod\" in terminal**"
   ]
  },
  {
   "cell_type": "code",
   "execution_count": null,
   "id": "4b0b3ee8-8a44-4f40-9026-67ca577e8749",
   "metadata": {
    "scrolled": true,
    "vscode": {
     "languageId": "shellscript"
    }
   },
   "outputs": [],
   "source": [
    "%%bash -s \"$ts_settings\" \"$fs_settings\" \"$bin_1_angpix\"\n",
    "#bringing the previously set python variables into bash as 1 to and 3\n",
    "\n",
    "###DEFAULT VALUES FOR K3 ONLY - COMMENT OUT IF NOT USING K3\n",
    "\n",
    "WarpTools create_settings \\\n",
    "--folder_data frames \\\n",
    "--folder_processing warp_frameseries \\\n",
    "--output \"$2\" \\\n",
    "--extension \"*.mrc\" \\\n",
    "--angpix \"$3\" \\\n",
    "--exposure ##set your exposure/tilt here\n",
    "\n",
    "WarpTools create_settings \\\n",
    "--output \"$1\" \\\n",
    "--folder_processing warp_tiltseries \\\n",
    "--folder_data tomostar \\\n",
    "--extension \"*.tomostar\" \\\n",
    "--angpix \"$3\" \\\n",
    "--tomo_dimensions 5760x4092x2000\n",
    "\n",
    "###THIS IS EER ONLY - COMMENT OUT IF NOT USING FALCON4i\n",
    "\n",
    "#WarpTools create_settings \\\n",
    "#--folder_data frames \\\n",
    "#--folder_processing warp_frameseries \\\n",
    "#--output {fs_settings} \\\n",
    "#--extension \"*.eer\" \\\n",
    "#--angpix {bin_1_angpix} \\\n",
    "#--gain_path gain.mrc \\\n",
    "#--eer_ngroups 9 \\\n",
    "#--gain_flip_y \\\n",
    "#--exposure 2.69\n",
    "\n",
    "##WarpTools create_settings \\\n",
    "#--output {ts_settings} \\\n",
    "#--folder_processing warp_tiltseries \\\n",
    "#--folder_data tomostar \\\n",
    "#--extension \"*.tomostar\" \\\n",
    "#--angpix {bin_1_angpix} \\\n",
    "#--gain_path gain.mrc \\\n",
    "#--gain_flip_y \\\n",
    "#--eer_ngroups 9 \\\n",
    "#--exposure 2.69 \\\n",
    "#--tomo_dimensions 4096x4096x2000"
   ]
  },
  {
   "cell_type": "markdown",
   "id": "33c21de1",
   "metadata": {},
   "source": [
    "*note - you may encounter bad tilts or bad frames that you will want to deselect. when discovered, use the following command*\n",
    "\n",
    "<br> WarpTools change_selection --settings 'corresponding_settings_file.settings' --input_data 'text_file_containing_one_bad_data_per_line.txt' --deselect\n",
    "- when placing the bad data into the text file, make sure that the you replace the processing directory (e.g. warp_frameseries) with the raw directory (e.g. frames). Not sure why this is, but it just is.\n",
    "- selecting specific frames for processing is done similarly, just use the --select flag instead of --deselect"
   ]
  },
  {
   "cell_type": "markdown",
   "id": "791aef2b",
   "metadata": {},
   "source": [
    "**Now that you have created the settings files, try to run motion correction with warp with the following command**\n",
    "<br> *if your settings file is not pointing in the correct direction, warp will let you know by stating \"0 files found\"*"
   ]
  },
  {
   "cell_type": "code",
   "execution_count": null,
   "id": "883ee692-7074-4f73-90a4-95a6eefcb070",
   "metadata": {
    "vscode": {
     "languageId": "shellscript"
    }
   },
   "outputs": [],
   "source": [
    "!WarpTools fs_motion_and_ctf \\\n",
    "--settings {fs_settings} \\\n",
    "--m_grid 1x1x3 \\\n",
    "--c_grid 2x2x1 \\\n",
    "--c_range_max 7 \\\n",
    "--c_defocus_max 8 \\\n",
    "--c_use_sum \\\n",
    "--out_averages \\\n",
    "--out_average_halves"
   ]
  },
  {
   "cell_type": "markdown",
   "id": "175a2948",
   "metadata": {},
   "source": [
    "Warp can estimate metrics to empirically determine the quality of your frames. These metrics are:\n",
    "- Between frame motion in the first 1/3 of collected frames of each frameseries (in Angstrom)\n",
    "- Defocus of each Frameseries (in micrometers)\n",
    "- Astigmatism of each frameseries (in micrometers)\n",
    "- CTF resolution of each frameseries (in Angstrom)\n",
    "- Phase shift (if using a VPP (we don't have))\n",
    "\n",
    "<br> *note - if the frames are pre-gain corrected before input into warp, I don't think these metrics are accurate*\n",
    "\n",
    "**Try outputting a histogram of warp's estimated ctf and motion metrics using the following command**\n",
    "\n"
   ]
  },
  {
   "cell_type": "code",
   "execution_count": null,
   "id": "ebbcd6a9-dd1b-4b5c-ab92-78498a9a48d4",
   "metadata": {
    "scrolled": true,
    "vscode": {
     "languageId": "shellscript"
    }
   },
   "outputs": [],
   "source": [
    "!WarpTools filter_quality --settings {fs_settings} --histograms"
   ]
  },
  {
   "cell_type": "markdown",
   "id": "c0905a34",
   "metadata": {},
   "source": [
    "**Now that we have a histogram representation of the per-frame metrics for CTF, Motion, and more, we can set a cutoff criteria where frames within are selected for downstream processing**\n",
    "\n",
    "<br> *here is the command with flags of interest:*\n",
    "\n",
    "<br> WarpTools filter_quality --defocus \"min\" \"max\" --astigmatism \"min\" \"max\" --phase \"min\" \"max\" --resolution \"min\" \"max\" --motion \"min\" \"max\"\n",
    "\n",
    "<br> *note that the astigmatism min and max values are standard deviations from the dataset mean*\n",
    "<br> *you can also see which frames actually meet the cutoff criteria with -o /path/to/text/.txt"
   ]
  },
  {
   "cell_type": "markdown",
   "id": "727d35e5",
   "metadata": {},
   "source": [
    "**Now, give warp your mdoc files**"
   ]
  },
  {
   "cell_type": "markdown",
   "id": "8f5853f1",
   "metadata": {},
   "source": [
    "*Warp reads the mdoc files and outputs a \"tomostar\" file. This is the internal format it uses to keep track of what frameseries contribute to which tiltstack. It also contains other metrics.*\n",
    "\n",
    "Example:\n",
    "\n",
    "data_\n",
    "\n",
    "<br> loop_\n",
    "<br> _wrpMovieName #1\n",
    "<br> _wrpAngleTilt #2\n",
    "<br> _wrpAxisAngle #3\n",
    "<br> _wrpDose #4\n",
    "<br> _wrpAverageIntensity #5\n",
    "<br> _wrpMaskedFraction #6\n",
    "<br>   ../warp_frameseries/Position_3_040_-54.00_20250723_134016_fractions.mrc  -54.00  97.780       124.8   547.000  0.000\n",
    "<br>   ../warp_frameseries/Position_3_039_-51.00_20250723_133924_fractions.mrc  -51.00  97.780       121.6   597.000  0.000\n",
    "<br>   ../warp_frameseries/Position_3_036_-48.00_20250723_133623_fractions.mrc  -48.00  97.780         112   648.500  0.000\n",
    "<br>   ../warp_frameseries/Position_3_035_-45.00_20250723_133531_fractions.mrc  -45.00  97.780       108.8   695.000  0.000\n",
    "<br>   ../warp_frameseries/Position_3_032_-42.00_20250723_133228_fractions.mrc  -42.00  97.780   99.200005   737.000  0.000\n",
    "<br>   ../warp_frameseries/Position_3_031_-39.00_20250723_133136_fractions.mrc  -39.00  97.780          96   782.500  0.000\n",
    "<br>   ../warp_frameseries/Position_3_028_-36.00_20250723_132837_fractions.mrc  -36.00  97.780        86.4   822.500  0.000\n",
    "<br>   ../warp_frameseries/Position_3_027_-33.00_20250723_132745_fractions.mrc  -33.00  97.780   83.200005   851.000  0.000\n",
    "<br>   ../warp_frameseries/Position_3_024_-30.00_20250723_132447_fractions.mrc  -30.00  97.780        73.6   880.500  0.000"
   ]
  },
  {
   "cell_type": "code",
   "execution_count": null,
   "id": "304018d7-a073-4764-867a-30fc9b6ba8d4",
   "metadata": {
    "scrolled": true,
    "vscode": {
     "languageId": "shellscript"
    }
   },
   "outputs": [],
   "source": [
    "##NOTE - if acquisition was done on tomo5, the tilt axis will not be accurate. You will have to manually calculate it (+-90 from the given value in the mdoc). The handedness should be given by the facility.\n",
    "#if serialEM/PACE-Tomo was used to acquire tiltseries, the override axis flag is likely not necessary\n",
    "\n",
    "!WarpTools ts_import \\\n",
    "--mdocs mdocs \\\n",
    "--frameseries warp_frameseries \\\n",
    "--tilt_exposure 3.2 \\\n",
    "--min_intensity 0.3 \\\n",
    "--dont_invert \\\n",
    "--override_axis 'your_tilt_axis_here' \\\n",
    "--output tomostar"
   ]
  },
  {
   "cell_type": "markdown",
   "id": "23fd0676",
   "metadata": {},
   "source": [
    "**Now, assemble your tiltstack from the tomostar data**"
   ]
  },
  {
   "cell_type": "code",
   "execution_count": null,
   "id": "a7f0da34-68c8-4f9d-8959-315145f96f36",
   "metadata": {
    "scrolled": true,
    "vscode": {
     "languageId": "shellscript"
    }
   },
   "outputs": [],
   "source": [
    "!WarpTools ts_stack \\\n",
    "--settings {ts_settings} \\\n",
    "--angpix {final_bin_pix}"
   ]
  },
  {
   "cell_type": "markdown",
   "id": "43fdbc54",
   "metadata": {},
   "source": [
    "At this stage, you will want to copy the tiltstack and the tomostar file onto a local computer and parse through the tilts one by one. Remove any bad tilts from the tomostar file manually and delete the .xml files from the warp_tiltseries directory. \n",
    "\n",
    "<br> Sync the modified tomostar files back to the tomostar directory and reassemble the tiltstack. Bad tilts will have been removed this way, and your alignment will be much smoother.\n"
   ]
  },
  {
   "cell_type": "markdown",
   "id": "6f24524f",
   "metadata": {},
   "source": [
    "**Once you are satisfied with the included tilts, pass the tiltstack and the rawtlt file to AreTomo for alignment. If desired, IMOD alignment must be done manually, and is unable to be performed in this notebook.**\n",
    "<br> This script will also pass the AreTomo alignments back to Warp via WarpTools ts_import_alignments\n",
    "\n",
    "Note - you will have to edit the script to give AreTomo the tiltaxis value. (the second \"1\" value is fine)"
   ]
  },
  {
   "cell_type": "code",
   "execution_count": null,
   "id": "aa6bad50-f8b1-46ea-946c-1ff4b15b9fe9",
   "metadata": {
    "vscode": {
     "languageId": "shellscript"
    }
   },
   "outputs": [],
   "source": [
    "%%bash\n",
    "\n",
    "#the cuda libraries are found in the conda environment. You must export the libraries from the conda environment to the LD_LIBRARY_PATH which is how aretomo will find the cuda libraries\n",
    "export LD_LIBRARY_PATH=$CONDA_PREFIX/lib:$LD_LIBRARY_PATH\n",
    "\n",
    "##run aretomo on the tiltstack externally to generate tiltseries alignment\n",
    "\n",
    "# Function to get available GPUs (not currently running CUDA processes)\n",
    "get_available_gpus() {\n",
    "    local available_gpus=()\n",
    "    \n",
    "    # Check if nvidia-smi is available\n",
    "    if ! command -v nvidia-smi &> /dev/null; then\n",
    "        echo \"Warning: nvidia-smi not found. Cannot detect GPU usage.\"\n",
    "        return 1\n",
    "    fi\n",
    "    \n",
    "    # Get list of all GPU IDs\n",
    "    local all_gpus=($(nvidia-smi --list-gpus | grep -oP 'GPU \\K[0-9]+'))\n",
    "    \n",
    "    if [ ${#all_gpus[@]} -eq 0 ]; then\n",
    "        echo \"Warning: No GPUs detected.\"\n",
    "        return 1\n",
    "    fi\n",
    "    \n",
    "    echo \"Detected GPUs: ${all_gpus[*]}\"\n",
    "    \n",
    "    # Check each GPU for running processes\n",
    "    for gpu_id in \"${all_gpus[@]}\"; do\n",
    "        # Get processes running on this GPU\n",
    "        local processes=$(nvidia-smi -i \"$gpu_id\" --query-compute-apps=pid --format=csv,noheader,nounits 2>/dev/null)\n",
    "        \n",
    "        if [ -z \"$processes\" ] || [ \"$processes\" = \"No running processes found\" ]; then\n",
    "            available_gpus+=(\"$gpu_id\")\n",
    "            echo \"GPU $gpu_id: Available\"\n",
    "        else\n",
    "            echo \"GPU $gpu_id: In use (PIDs: $(echo $processes | tr '\\n' ' '))\"\n",
    "        fi\n",
    "    done\n",
    "    \n",
    "    if [ ${#available_gpus[@]} -eq 0 ]; then\n",
    "        echo \"Warning: No available GPUs found. All GPUs are currently in use.\"\n",
    "        return 1\n",
    "    fi\n",
    "    \n",
    "    echo \"Available GPUs: ${available_gpus[*]}\"\n",
    "    printf '%s\\n' \"${available_gpus[@]}\"\n",
    "    return 0\n",
    "}\n",
    "\n",
    "# Function to wait for a GPU to become available\n",
    "wait_for_available_gpu() {\n",
    "    local max_wait_time=300  # Maximum wait time in seconds (5 minutes)\n",
    "    local wait_interval=10   # Check interval in seconds\n",
    "    local elapsed_time=0\n",
    "    \n",
    "    while [ $elapsed_time -lt $max_wait_time ]; do\n",
    "        local available_gpus_output\n",
    "        available_gpus_output=$(get_available_gpus 2>/dev/null)\n",
    "        local gpu_check_result=$?\n",
    "        \n",
    "        if [ $gpu_check_result -eq 0 ] && [ -n \"$available_gpus_output\" ]; then\n",
    "            # Extract just the GPU IDs (last line of output should contain the available GPUs)\n",
    "            local available_gpu=$(echo \"$available_gpus_output\" | tail -n 1)\n",
    "            echo \"$available_gpu\"\n",
    "            return 0\n",
    "        fi\n",
    "        \n",
    "        echo \"No GPUs available. Waiting ${wait_interval}s... (${elapsed_time}/${max_wait_time}s elapsed)\"\n",
    "        sleep $wait_interval\n",
    "        elapsed_time=$((elapsed_time + wait_interval))\n",
    "    done\n",
    "    \n",
    "    echo \"Timeout: No GPU became available within ${max_wait_time} seconds\"\n",
    "    return 1\n",
    "}\n",
    "\n",
    "# Function to run AreTomo on a specific GPU\n",
    "run_aretomo_on_gpu() {\n",
    "    local gpu_id=$1\n",
    "    local tiltstack=$2\n",
    "    local dir=$3\n",
    "    local base=$4\n",
    "    \n",
    "    echo \"Running AreTomo on GPU $gpu_id for $tiltstack\"\n",
    "    \n",
    "    # Set CUDA device - AreTomo will see this as GPU 0\n",
    "    export CUDA_VISIBLE_DEVICES=$gpu_id\n",
    "    \n",
    "    ##EDIT TILTAXIS HERE\n",
    "    $AreTomo -InMrc \"$tiltstack\" \\\n",
    "    -OutMrc \"$dir/${base}_aligned.mrc\" \\\n",
    "    -AngFile \"${tiltstack%.st}.rawtlt\" \\\n",
    "    -TiltAxis $$$ 1 \\\n",
    "    -OutImod 1 \\\n",
    "    -AlignZ 253 \\\n",
    "    -VolZ 0 \\\n",
    "    -DarkTol 0 \\\n",
    "    -Patch 6 6\n",
    "    \n",
    "    local result=$?\n",
    "    \n",
    "    # Unset CUDA device restriction\n",
    "    unset CUDA_VISIBLE_DEVICES\n",
    "    \n",
    "    return $result\n",
    "}\n",
    "\n",
    "echo \"Here we go...\"\n",
    "\n",
    "echo \"Looking for files in: warp_tiltseries/tiltstack/*/*.st\"\n",
    "\n",
    "# Check if any .st files exist\n",
    "if ls warp_tiltseries/tiltstack/*/*.st 1> /dev/null 2>&1; then\n",
    "    echo \"Found .st files:\"\n",
    "    ls warp_tiltseries/tiltstack/*/*.st\n",
    "else\n",
    "    echo \"No .st files found matching pattern: warp_tiltseries/tiltstack/*/*.st\"\n",
    "    echo \"Directory contents:\"\n",
    "    ls -la \"warp_tiltseries\"\n",
    "    exit 1\n",
    "fi\n",
    "\n",
    "# Check if aretomo_alignments directory exists, create if it doesn't\n",
    "if [ ! -d \"warp_tiltseries/aretomo_alignments\" ]; then\n",
    "    echo \"Creating aretomo_alignments directory...\"\n",
    "    mkdir -p warp_tiltseries/aretomo_alignments\n",
    "else\n",
    "    echo \"aretomo_alignments directory already exists\"\n",
    "fi\n",
    "\n",
    "# Get initial list of available GPUs\n",
    "echo \"Checking GPU availability...\"\n",
    "available_gpus_output=$(get_available_gpus)\n",
    "gpu_check_result=$?\n",
    "\n",
    "if [ $gpu_check_result -ne 0 ]; then\n",
    "    echo \"Error: Cannot proceed without GPU detection. Falling back to default behavior.\"\n",
    "    # You could set a fallback here, or exit\n",
    "    available_gpus=()\n",
    "else\n",
    "    # Parse available GPUs from output\n",
    "    mapfile -t available_gpus < <(echo \"$available_gpus_output\" | tail -n +1 | grep -E '^[0-9]+$')\n",
    "fi\n",
    "\n",
    "# Track successful moves\n",
    "successful_moves=0\n",
    "total_positions=0\n",
    "failed_positions=()\n",
    "current_gpu_index=0\n",
    "\n",
    "for tiltstack in warp_tiltseries/tiltstack/*/*.st; do\n",
    "    # Get the directory and base filename\n",
    "    dir=$(dirname \"$tiltstack\")\n",
    "    base=$(basename \"$tiltstack\" .st)\n",
    "    \n",
    "    # Extract position name from directory path (e.g., Position_6, Position_7_2)\n",
    "    position_name=$(basename \"$dir\")\n",
    "    \n",
    "    echo \"Processing: $tiltstack\"\n",
    "    echo \"Position: $position_name\"\n",
    "    \n",
    "    total_positions=$((total_positions + 1))\n",
    "    \n",
    "    # Determine which GPU to use\n",
    "    if [ ${#available_gpus[@]} -gt 0 ]; then\n",
    "        # Use round-robin assignment of available GPUs\n",
    "        gpu_id=${available_gpus[$current_gpu_index]}\n",
    "        current_gpu_index=$(( (current_gpu_index + 1) % ${#available_gpus[@]} ))\n",
    "        \n",
    "        echo \"Assigned to GPU: $gpu_id\"\n",
    "        run_aretomo_on_gpu \"$gpu_id\" \"$tiltstack\" \"$dir\" \"$base\"\n",
    "        aretomo_result=$?\n",
    "    else\n",
    "        # No specific GPU available, wait for one or fall back\n",
    "        echo \"No GPUs initially available. Waiting for an available GPU...\"\n",
    "        gpu_id=$(wait_for_available_gpu)\n",
    "        wait_result=$?\n",
    "        \n",
    "        if [ $wait_result -eq 0 ] && [ -n \"$gpu_id\" ]; then\n",
    "            echo \"GPU $gpu_id became available\"\n",
    "            run_aretomo_on_gpu \"$gpu_id\" \"$tiltstack\" \"$dir\" \"$base\"\n",
    "            aretomo_result=$?\n",
    "        else\n",
    "            echo \"Running AreTomo without specific GPU assignment...\"\n",
    "            #replace XXX with the correct tiltaxis value\n",
    "            $AreTomo -InMrc \"$tiltstack\" \\\n",
    "            -OutMrc \"$dir/${base}_aligned.mrc\" \\\n",
    "            -AngFile \"${tiltstack%.st}.rawtlt\" \\\n",
    "            -TiltAxis XXX 1 \\\n",
    "            -OutImod 1 \\\n",
    "            -AlignZ 253 \\\n",
    "            -VolZ 0 \\\n",
    "            -DarkTol 0 \\\n",
    "            -Patch 6 6\n",
    "            aretomo_result=$?\n",
    "        fi\n",
    "    fi\n",
    "    \n",
    "    # Check if AreTomo succeeded before moving directories\n",
    "    if [ $aretomo_result -eq 0 ]; then\n",
    "        echo \"AreTomo processing successful for $position_name\"\n",
    "        \n",
    "        # Look for the generated Imod directory\n",
    "        imod_dir=\"$dir/${base}_aligned_Imod\"\n",
    "        if [ -d \"$imod_dir\" ]; then\n",
    "            echo \"Found Imod directory: $imod_dir\"\n",
    "            \n",
    "            # Create position subdirectory in aretomo_alignments\n",
    "            target_dir=\"warp_tiltseries/aretomo_alignments/${position_name}_Imod\"\n",
    "            \n",
    "            echo \"Moving to: $target_dir\"\n",
    "            \n",
    "            # Create target directory if it doesn't exist\n",
    "            mkdir -p \"$target_dir\"\n",
    "            \n",
    "            # Move all files from Imod directory to target, renaming files to remove \"_aligned\"\n",
    "            move_success=true\n",
    "            failed_files=()\n",
    "            for file in \"$imod_dir\"/*; do\n",
    "                if [ -f \"$file\" ]; then\n",
    "                    filename=$(basename \"$file\")\n",
    "                    \n",
    "                    # Check if file matches Position_*_aligned pattern (handles Position_#_aligned and Position_#_#_aligned)\n",
    "                    if [[ \"$filename\" =~ Position_[0-9]+(_[0-9]+)*_aligned ]]; then\n",
    "                        # Remove \"_aligned\" from filename completely\n",
    "                        new_filename=$(echo \"$filename\" | sed 's/_aligned//')\n",
    "                        echo \"  Renaming: $filename -> $new_filename\"\n",
    "                        if mv \"$file\" \"$target_dir/$new_filename\"; then\n",
    "                            :  # Success, do nothing\n",
    "                        else\n",
    "                            echo \"  ERROR: Failed to move $filename\"\n",
    "                            failed_files+=(\"$filename\")\n",
    "                            move_success=false\n",
    "                        fi\n",
    "                    else\n",
    "                        # File doesn't match pattern, move as-is\n",
    "                        echo \"  Moving: $filename\"\n",
    "                        if mv \"$file\" \"$target_dir/$filename\"; then\n",
    "                            :  # Success, do nothing\n",
    "                        else\n",
    "                            echo \"  ERROR: Failed to move $filename\"\n",
    "                            failed_files+=(\"$filename\")\n",
    "                            move_success=false\n",
    "                        fi\n",
    "                    fi\n",
    "                fi\n",
    "            done\n",
    "            \n",
    "            # Remove empty original Imod directory if all moves were successful\n",
    "            if [ \"$move_success\" = true ]; then\n",
    "                rmdir \"$imod_dir\"\n",
    "                echo \"Removed original Imod directory: $imod_dir\"\n",
    "                successful_moves=$((successful_moves + 1))\n",
    "            else\n",
    "                echo \"Some files failed to move for $position_name:\"\n",
    "                printf \"  - %s\\n\" \"${failed_files[@]}\"\n",
    "                failed_positions+=(\"$position_name\")\n",
    "            fi\n",
    "        else\n",
    "            echo \"Warning: Expected Imod directory not found: $imod_dir\"\n",
    "            failed_positions+=(\"$position_name (Imod directory not found)\")\n",
    "        fi\n",
    "    else\n",
    "        echo \"AreTomo processing failed for $position_name\"\n",
    "        failed_positions+=(\"$position_name (AreTomo failed)\")\n",
    "    fi\n",
    "    \n",
    "    echo \"---\"\n",
    "done\n",
    "\n",
    "echo \"Processing complete: $successful_moves out of $total_positions positions successfully moved\"\n",
    "\n",
    "# Report failed positions if any\n",
    "if [ ${#failed_positions[@]} -gt 0 ]; then\n",
    "    echo \"Failed positions:\"\n",
    "    printf \"  - %s\\n\" \"${failed_positions[@]}\"\n",
    "fi\n",
    "\n",
    "# Run WarpTools if all positions were successfully moved\n",
    "if [ $successful_moves -eq $total_positions ] && [ $total_positions -gt 0 ]; then\n",
    "    echo \"All Imod directories were moved and renamed successfully!\"\n",
    "    echo \"Running WarpTools ts_import_alignments...\"\n",
    "    \n",
    "    WarpTools ts_import_alignments \\\n",
    "    --settings warp_tiltseries.settings \\\n",
    "    --alignments warp_tiltseries/aretomo_alignments \\\n",
    "    --alignment_angpix 1.59\n",
    "    \n",
    "    if [ $? -eq 0 ]; then\n",
    "        echo \"WarpTools ts_import_alignments completed successfully!\"\n",
    "    else\n",
    "        echo \"WarpTools ts_import_alignments failed!\"\n",
    "    fi\n",
    "else\n",
    "    echo \"Not all positions were successfully processed. Skipping WarpTools import.\"\n",
    "    echo \"Successfully moved: $successful_moves\"\n",
    "    echo \"Total positions: $total_positions\"\n",
    "fi\n",
    "\n",
    "if [ $successful_moves -eq $total_positions ] && [ $total_positions -gt 0 ]\n",
    "then\n",
    "    echo \"Success, looks good!\"\n",
    "    echo \"Imod directories have been moved to warp_tiltseries/aretomo_alignments/\"\n",
    "else\n",
    "    echo \"Finished with errors :(\"\n",
    "fi"
   ]
  },
  {
   "cell_type": "markdown",
   "id": "3ef317a4",
   "metadata": {
    "vscode": {
     "languageId": "shellscript"
    }
   },
   "source": [
    "**Now that you have the aligned tiltstack, we can estimate the defocus handedness of the tomogram to make sure we get the right orientation**"
   ]
  },
  {
   "cell_type": "code",
   "execution_count": null,
   "id": "4c018f4d-7660-47c1-b19c-1ddcaf694860",
   "metadata": {
    "scrolled": true,
    "vscode": {
     "languageId": "shellscript"
    }
   },
   "outputs": [],
   "source": [
    "!WarpTools ts_defocus_hand \\\n",
    "--settings {ts_settings} \\\n",
    "--check"
   ]
  },
  {
   "cell_type": "markdown",
   "id": "528b7322",
   "metadata": {},
   "source": [
    "**If necessary, flip defocus with the following script** (uncomment it)"
   ]
  },
  {
   "cell_type": "code",
   "execution_count": null,
   "id": "8d5d87f3-e413-44ac-8d72-7e2d1347fadb",
   "metadata": {
    "scrolled": true,
    "vscode": {
     "languageId": "shellscript"
    }
   },
   "outputs": [],
   "source": [
    "#!WarpTools ts_defocus_hand \\\n",
    "#--settings {ts_settings} \\\n",
    "#--set_flip"
   ]
  },
  {
   "cell_type": "markdown",
   "id": "ec7583bd",
   "metadata": {},
   "source": [
    "**Once we get the correct handedness, estimate the ctf gradient for the 3d volume, not just per tilt. This will be used to fourier reconstruct the tomograms.**"
   ]
  },
  {
   "cell_type": "code",
   "execution_count": null,
   "id": "06616e12-5abe-4d6a-a87d-4a314200788a",
   "metadata": {
    "scrolled": true,
    "vscode": {
     "languageId": "shellscript"
    }
   },
   "outputs": [],
   "source": [
    "!WarpTools ts_ctf \\\n",
    "--settings {ts_settings} \\\n",
    "--range_high 7 \\\n",
    "--defocus_max 8"
   ]
  },
  {
   "cell_type": "markdown",
   "id": "5cf5d842",
   "metadata": {},
   "source": [
    "**You should now be all set to reconstruct the tomograms**"
   ]
  },
  {
   "cell_type": "code",
   "execution_count": 4,
   "id": "5cfaabd2-f440-4583-91f4-0eccfafb39c3",
   "metadata": {
    "scrolled": true,
    "vscode": {
     "languageId": "shellscript"
    }
   },
   "outputs": [],
   "source": [
    "#!WarpTools ts_reconstruct \\\n",
    "#--settings {ts_settings} \\\n",
    "#--halfmap_frames \\\n",
    "#--angpix {final_bin_pix}\n",
    "\n",
    "#the following command will copy all the generated tomograms and pngs into first_pass directory so you can easily copy it locally with rsync and visualize with IMOD\n",
    "\n",
    "!mkdir first_pass_ts\n",
    "import subprocess\n",
    "subprocess.run(f\"cp $PWD/warp_tiltseries/reconstruction/*_{final_bin_pix}Apx* first_pass_ts\", shell=True)"
   ]
  },
  {
   "cell_type": "markdown",
   "id": "5c3b7431",
   "metadata": {},
   "source": [
    "**The following is an extra but helpful step to output a medial slice snapshot of each tomogram for visualization**"
   ]
  },
  {
   "cell_type": "code",
   "execution_count": 6,
   "id": "a8cfb78d-b446-45a2-b612-19dbbf11ba6f",
   "metadata": {
    "vscode": {
     "languageId": "shellscript"
    }
   },
   "outputs": [],
   "source": [
    "%matplotlib inline\n",
    "import matplotlib.pyplot as plt\n",
    "import numpy as np\n",
    "\n",
    "from IPython.display import display, Image\n",
    "\n",
    "from glob import glob\n",
    "\n",
    "import PIL\n",
    "images = [ PIL.Image.open(f) for f in glob('warp_tiltseries/reconstruction/*.png') ]\n",
    "def img2array(im):\n",
    "    if im.mode != 'L':\n",
    "        im = im.convert(mode='L')\n",
    "    return np.frombuffer(im.tobytes(), dtype='uint8').reshape((im.size[1], im.size[0]))\n",
    "np_images = [ img2array(im) for im in images ]\n",
    "\n",
    "plt.figure(figsize=(20,20))\n",
    "columns = 8\n",
    "rows = len(np_images) // columns + (1 if len(np_images) % columns != 0 else 0)\n",
    "\n",
    "for i, img in enumerate(np_images):\n",
    "    plt.subplot(rows, columns, i + 1)\n",
    "    plt.imshow(img, cmap='gray_r')\n",
    "    plt.axis('off')\n",
    "\n",
    "plt.subplots_adjust(wspace=0.01, hspace=0.01)  # Remove spacing\n",
    "plt.show()\n",
    "plt.close()"
   ]
  },
  {
   "cell_type": "markdown",
   "id": "5a8952e3-399b-43aa-961b-d72a962fb6e6",
   "metadata": {
    "vscode": {
     "languageId": "shellscript"
    }
   },
   "source": [
    "**If you want to take your tomograms and process them downstream in GAPSTOP for 3D template matching, run this below cell. Otherwise you're now done with the notebook. You might want to iteratively process until you have a well-aligned and reconstructed tomogram you are happy with.** \n",
    "**Just edit a couple variables at the top of the notebook and re-run.**"
   ]
  },
  {
   "cell_type": "code",
   "execution_count": 4,
   "id": "09bbb827-ad33-4a28-ba9b-c8abce978582",
   "metadata": {
    "vscode": {
     "languageId": "shellscript"
    }
   },
   "outputs": [],
   "source": [
    "%%bash\n",
    "\n",
    "mkdir -p gapstop/inputs/tlt gapstop/inputs/ctf_dose gapstop/inputs/wedgelist gapstop/inputs/tomograms\n",
    "ln -s $PWD/warp_tiltseries/reconstruction/*.mrc gapstop/inputs/tomograms\n",
    "ln -s $PWD/warp_tiltseries/aretomo_alignments/*/*.tlt gapstop/inputs/tlt/\n",
    "ln -s $PWD/warp_tiltseries/*.xml gapstop/inputs/ctf_dose/"
   ]
  }
 ],
 "metadata": {
  "kernelspec": {
   "display_name": "warp",
   "language": "python",
   "name": "warp"
  },
  "language_info": {
   "codemirror_mode": {
    "name": "ipython",
    "version": 3
   },
   "file_extension": ".py",
   "mimetype": "text/x-python",
   "name": "python",
   "nbconvert_exporter": "python",
   "pygments_lexer": "ipython3",
   "version": "3.11.9"
  }
 },
 "nbformat": 4,
 "nbformat_minor": 5
}
